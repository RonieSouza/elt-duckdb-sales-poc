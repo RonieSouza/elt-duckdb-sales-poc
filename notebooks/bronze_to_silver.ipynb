{
 "cells": [
  {
   "cell_type": "code",
   "execution_count": 2,
   "id": "66b34871",
   "metadata": {},
   "outputs": [],
   "source": [
    "from pathlib import Path\n",
    "import duckdb"
   ]
  },
  {
   "cell_type": "code",
   "execution_count": 3,
   "id": "7758a920",
   "metadata": {},
   "outputs": [],
   "source": [
    "base_path = Path().resolve() / \"data\"\n",
    "bronze_path = base_path / \"bronze/sales.parquet\"\n",
    "silver_path = base_path / \"silver\""
   ]
  },
  {
   "cell_type": "code",
   "execution_count": 8,
   "id": "d95a160c",
   "metadata": {},
   "outputs": [],
   "source": [
    "duckdb.sql(f'''\n",
    "        copy\n",
    "            (\n",
    "                select distinct\n",
    "                    Product_ID                  as product_id\n",
    "                    , trim(Product_Category)    as product_category\n",
    "                from\n",
    "                    \"{bronze_path}\"\n",
    "            )\n",
    "        to \"{silver_path}/product.parquet\"\n",
    "''')"
   ]
  },
  {
   "cell_type": "code",
   "execution_count": 9,
   "id": "fb85f455",
   "metadata": {},
   "outputs": [],
   "source": [
    "duckdb.sql(f'''\n",
    "        copy\n",
    "            (\n",
    "                select distinct\n",
    "                    trim(Sales_Rep)    as representative\n",
    "                from\n",
    "                    \"{bronze_path}\"\n",
    "            )\n",
    "        to \"{silver_path}/representative.parquet\"\n",
    "''')"
   ]
  },
  {
   "cell_type": "code",
   "execution_count": 10,
   "id": "8a1fc0f2",
   "metadata": {},
   "outputs": [],
   "source": [
    "duckdb.sql(f'''\n",
    "        copy\n",
    "            (\n",
    "                select distinct\n",
    "                    trim(Region)    as region\n",
    "                from\n",
    "                    \"{bronze_path}\"\n",
    "            )\n",
    "        to \"{silver_path}/region.parquet\"\n",
    "''')"
   ]
  },
  {
   "cell_type": "code",
   "execution_count": 32,
   "id": "5382b1e1",
   "metadata": {},
   "outputs": [],
   "source": [
    "duckdb.sql(f'''\n",
    "        copy\n",
    "            (\n",
    "                select distinct\n",
    "                    trim(Customer_Type)    as customer_type\n",
    "                from\n",
    "                    \"{bronze_path}\"\n",
    "            )\n",
    "        to \"{silver_path}/customer_type.parquet\"\n",
    "''')"
   ]
  },
  {
   "cell_type": "code",
   "execution_count": 12,
   "id": "b8c51ba1",
   "metadata": {},
   "outputs": [],
   "source": [
    "duckdb.sql(f'''\n",
    "        copy\n",
    "            (\n",
    "                select distinct\n",
    "                    trim(Payment_Method)    as payment_method\n",
    "                from\n",
    "                    \"{bronze_path}\"\n",
    "            )\n",
    "        to \"{silver_path}/payment_method.parquet\"\n",
    "''')"
   ]
  },
  {
   "cell_type": "code",
   "execution_count": 13,
   "id": "59a737c1",
   "metadata": {},
   "outputs": [],
   "source": [
    "duckdb.sql(f'''\n",
    "        copy\n",
    "            (\n",
    "                select distinct\n",
    "                    trim(Sales_Channel)    as sales_channel\n",
    "                from\n",
    "                    \"{bronze_path}\"\n",
    "            )\n",
    "        to \"{silver_path}/sales_channel.parquet\"\n",
    "''')"
   ]
  },
  {
   "cell_type": "code",
   "execution_count": 18,
   "id": "7846a19c",
   "metadata": {},
   "outputs": [],
   "source": [
    "duckdb.sql(f'''\n",
    "        copy\n",
    "            (\n",
    "                select distinct\n",
    "                    Product_ID                as product_id\n",
    "                    , Sale_Date               as sales_date\n",
    "                    , trim(Sales_Rep)         as representative\n",
    "                    , trim(Region)            as region\n",
    "                    , Sales_Amount            as sales_amount\n",
    "                    , Quantity_Sold           as quantity_sold\n",
    "                    , trim(Product_Category)  as product_category\n",
    "                    , Unit_Cost               as unit_cost\n",
    "                    , Unit_Price              as unit_price\n",
    "                    , trim(Customer_Type)     as customer_type\n",
    "                    , Discount                as discount\n",
    "                    , trim(Payment_Method)    as payment_method\n",
    "                    , trim(Sales_Channel)     as sales_channel\n",
    "                from\n",
    "                    \"{bronze_path}\"\n",
    "            )\n",
    "        to \"{silver_path}/sales.parquet\"\n",
    "''')"
   ]
  }
 ],
 "metadata": {
  "kernelspec": {
   "display_name": "venv",
   "language": "python",
   "name": "python3"
  },
  "language_info": {
   "codemirror_mode": {
    "name": "ipython",
    "version": 3
   },
   "file_extension": ".py",
   "mimetype": "text/x-python",
   "name": "python",
   "nbconvert_exporter": "python",
   "pygments_lexer": "ipython3",
   "version": "3.13.5"
  }
 },
 "nbformat": 4,
 "nbformat_minor": 5
}
